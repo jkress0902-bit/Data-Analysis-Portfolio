{
 "cells": [
  {
   "cell_type": "code",
   "execution_count": 14,
   "id": "5c758e01",
   "metadata": {},
   "outputs": [],
   "source": [
    "import pandas as pd\n",
    "import numpy as np\n",
    "pd.set_option('display.max_columns', None)\n",
    "df = pd.read_csv(\"usa_000132.csv\")\n",
    "df = df.dropna(subset=[\"INCTOT\",\"FTOTINC\"])"
   ]
  },
  {
   "cell_type": "code",
   "execution_count": 15,
   "id": "8a95f098",
   "metadata": {},
   "outputs": [],
   "source": [
    "# Filter rows for key column data\n",
    "df = df[df[\"METRO\"] != 0] # remove non-metro areas\n",
    "df = df[(df[\"AGE\"] >= 18) & (df[\"AGE\"] <= 64)]  # keep age 18–64\n",
    "df = df[df[\"EDUC\"].isin([10, 11])]  # keep individuals with a bachelor's degree or higher\n",
    "df = df[df[\"CLASSWKR\"] != 0]  # remove n/a class of worker"
   ]
  },
  {
   "cell_type": "code",
   "execution_count": 16,
   "id": "629ea77c",
   "metadata": {},
   "outputs": [],
   "source": [
    "# Dummy Variables\n",
    "df[\"IND_N\"] = np.where(df[\"IND\"] == 7390, 1, 2) # technical consulting industry = 1, else = 2\n",
    "df[\"MARITAL_STATUS\"] = np.where(df[\"MARST\"].isin([1, 2]), 1, 2) # married, spouse present or absent = 1, not married = 2\n",
    "df[\"RACE_N\"] = np.where(df[\"RACE\"] == 1, 1, 2) # white = 1, else = 2\n",
    "df[\"ENGLISH_SPEAKING_STATUS\"] = np.where(df[\"SPEAKENG\"].isin([2, 3, 4, 5, 6]), 1, 2) # speaks English well to barely speaks = 1, doesn't speak English = 2"
   ]
  },
  {
   "cell_type": "code",
   "execution_count": 17,
   "id": "f6a4eac7",
   "metadata": {},
   "outputs": [],
   "source": [
    "# Occupation categories\n",
    "def recode_occ(x):\n",
    "    if 0000 <= x <= 960:\n",
    "        return 1\n",
    "    elif 961 <= x <= 1980:\n",
    "        return 2\n",
    "    elif 1981 <= x <= 2920:\n",
    "        return 3\n",
    "    elif 2921 <= x <= 3550:\n",
    "        return 4\n",
    "    elif 3551 <= x <= 4655:\n",
    "        return 5\n",
    "    elif 4656 <= x <= 5940:\n",
    "        return 6\n",
    "    elif 5941 <= x <= 7640:\n",
    "        return 7\n",
    "    elif 7641 <= x <= 8990:\n",
    "        return 8\n",
    "    elif 8991 <= x <= 9920:\n",
    "        return 9\n",
    "    else:\n",
    "        return np.nan  # in case occ=0 or out of range\n",
    "df[\"OCCUPATION_GROUP\"] = df[\"OCC\"].apply(recode_occ)\n",
    "df = df.dropna(subset=[\"OCCUPATION_GROUP\"])"
   ]
  },
  {
   "cell_type": "code",
   "execution_count": 18,
   "id": "d3a9b95e",
   "metadata": {},
   "outputs": [],
   "source": [
    "# Rename Income Variables & Log Tranformations to adjust for skewness\n",
    "df = df.rename(columns={\n",
    "    \"INCTOT\": \"PERSONAL_INCOME\",\n",
    "    \"FTOTINC\": \"FAMILY_INCOME\"\n",
    "})     # Rename income variables\n",
    "\n",
    "df = df[df[\"PERSONAL_INCOME\"] >= 0]  # remove negative personal income values\n",
    "df = df[df[\"FAMILY_INCOME\"] >= 0]  # remove negative family income values\n",
    "\n",
    "df[\"LOG_OF_PERSONAL_INCOME\"] = np.log(df[\"PERSONAL_INCOME\"].replace({0: np.nan}))\n",
    "df[\"LOG_OF_FAMILY_INCOME\"] = np.log(df[\"FAMILY_INCOME\"].replace({0: np.nan}))\n",
    "df = df.dropna(subset=[\"LOG_OF_PERSONAL_INCOME\",\"LOG_OF_FAMILY_INCOME\"])"
   ]
  },
  {
   "cell_type": "code",
   "execution_count": 19,
   "id": "db5be02d",
   "metadata": {},
   "outputs": [],
   "source": [
    "df = df.rename(columns={\n",
    "    \"IND_N\": \"TECHNICAL_CONSULTING_DUMMY\",\n",
    "    \"METRO\": \"METROPOLITAN_STATUS\",\n",
    "    \"CITIZEN\": \"CITIZENSHIP_STATUS\",\n",
    "    \"EDUC\": \"EDUCATION_LEVEL\",\n",
    "    \"CLASSWKR\": \"EMPLOYMENT_STATUS\",\n",
    "    \"WKSWORK1\": \"WEEKS_WORKED_LAST_YEAR\",\n",
    "    \"VETSTAT\": \"VETERAN_STATUS\"\n",
    "})  # Rename other variables"
   ]
  },
  {
   "cell_type": "code",
   "execution_count": 20,
   "id": "724a153f",
   "metadata": {},
   "outputs": [
    {
     "name": "stdout",
     "output_type": "stream",
     "text": [
      "(87706, 23)\n",
      "     YEAR  METROPOLITAN_STATUS  SEX  AGE  MARST  RACE  CITIZENSHIP_STATUS  \\\n",
      "74   2022                    4    1   54      3     3                   0   \n",
      "125  2022                    4    1   54      3     3                   0   \n",
      "338  2022                    4    1   42      2     1                   0   \n",
      "648  2022                    4    1   42      2     1                   0   \n",
      "839  2022                    4    2   33      6     2                   0   \n",
      "\n",
      "     SPEAKENG  EDUCATION_LEVEL  EMPLOYMENT_STATUS   OCC   IND  \\\n",
      "74          4               10                  2  4000  8680   \n",
      "125         4               10                  2  4000  8680   \n",
      "338         3               11                  2  4220  1180   \n",
      "648         3               11                  2  4220  1180   \n",
      "839         3               10                  2  4020  5090   \n",
      "\n",
      "     WEEKS_WORKED_LAST_YEAR  PERSONAL_INCOME  FAMILY_INCOME  VETERAN_STATUS  \\\n",
      "74                       52            26000        9999999               1   \n",
      "125                      52            26000        9999999               1   \n",
      "338                      52            56000        9999999               1   \n",
      "648                      52            56000        9999999               1   \n",
      "839                      14             4000        9999999               1   \n",
      "\n",
      "     TECHNICAL_CONSULTING_DUMMY  MARITAL_STATUS  RACE_N  \\\n",
      "74                            2               2       2   \n",
      "125                           2               2       2   \n",
      "338                           2               1       1   \n",
      "648                           2               1       1   \n",
      "839                           2               2       2   \n",
      "\n",
      "     ENGLISH_SPEAKING_STATUS  OCCUPATION_GROUP  LOG_OF_PERSONAL_INCOME  \\\n",
      "74                         1                 5               10.165852   \n",
      "125                        1                 5               10.165852   \n",
      "338                        1                 5               10.933107   \n",
      "648                        1                 5               10.933107   \n",
      "839                        1                 5                8.294050   \n",
      "\n",
      "     LOG_OF_FAMILY_INCOME  \n",
      "74              16.118096  \n",
      "125             16.118096  \n",
      "338             16.118096  \n",
      "648             16.118096  \n",
      "839             16.118096  \n"
     ]
    }
   ],
   "source": [
    "print(df.shape)\n",
    "print(df.head())"
   ]
  },
  {
   "cell_type": "code",
   "execution_count": 21,
   "id": "9c519ff4",
   "metadata": {},
   "outputs": [],
   "source": [
    "df.to_csv(\"usa_clean.csv\", index=False)"
   ]
  },
  {
   "cell_type": "code",
   "execution_count": 22,
   "id": "22725a69",
   "metadata": {},
   "outputs": [
    {
     "name": "stdout",
     "output_type": "stream",
     "text": [
      "                              count           mean   min           max  \\\n",
      "PERSONAL_INCOME             87706.0  109794.552174   1.0  1.557000e+06   \n",
      "FAMILY_INCOME               87706.0  300013.147231   1.0  9.999999e+06   \n",
      "LOG_OF_PERSONAL_INCOME      87706.0      11.113559   0.0  1.425827e+01   \n",
      "LOG_OF_FAMILY_INCOME        87706.0      11.893055   0.0  1.611810e+01   \n",
      "TECHNICAL_CONSULTING_DUMMY  87706.0       1.977470   1.0  2.000000e+00   \n",
      "OCCUPATION_GROUP            87706.0       3.136137   1.0  9.000000e+00   \n",
      "SEX                         87706.0       1.516236   1.0  2.000000e+00   \n",
      "AGE                         87706.0      42.364958  19.0  6.400000e+01   \n",
      "MARITAL_STATUS              87706.0       1.397521   1.0  2.000000e+00   \n",
      "RACE_N                      87706.0       1.454439   1.0  2.000000e+00   \n",
      "METROPOLITAN_STATUS         87706.0       3.213885   1.0  4.000000e+00   \n",
      "CITIZENSHIP_STATUS          87706.0       0.617837   0.0  3.000000e+00   \n",
      "ENGLISH_SPEAKING_STATUS     87706.0       1.001767   1.0  2.000000e+00   \n",
      "EDUCATION_LEVEL             87706.0      10.381274  10.0  1.100000e+01   \n",
      "EMPLOYMENT_STATUS           87706.0       1.898718   1.0  2.000000e+00   \n",
      "VETERAN_STATUS              87706.0       1.033453   1.0  2.000000e+00   \n",
      "WEEKS_WORKED_LAST_YEAR      87706.0      46.727841   0.0  5.200000e+01   \n",
      "\n",
      "                                 std_dev  \n",
      "PERSONAL_INCOME             1.223724e+05  \n",
      "FAMILY_INCOME               1.010147e+06  \n",
      "LOG_OF_PERSONAL_INCOME      1.143765e+00  \n",
      "LOG_OF_FAMILY_INCOME        1.013043e+00  \n",
      "TECHNICAL_CONSULTING_DUMMY  1.483997e-01  \n",
      "OCCUPATION_GROUP            2.028008e+00  \n",
      "SEX                         4.997392e-01  \n",
      "AGE                         1.182675e+01  \n",
      "MARITAL_STATUS              4.893882e-01  \n",
      "RACE_N                      4.979227e-01  \n",
      "METROPOLITAN_STATUS         9.201934e-01  \n",
      "CITIZENSHIP_STATUS          1.055231e+00  \n",
      "ENGLISH_SPEAKING_STATUS     4.200196e-02  \n",
      "EDUCATION_LEVEL             4.857024e-01  \n",
      "EMPLOYMENT_STATUS           3.017029e-01  \n",
      "VETERAN_STATUS              1.798165e-01  \n",
      "WEEKS_WORKED_LAST_YEAR      1.320139e+01  \n"
     ]
    }
   ],
   "source": [
    "vars_1 = [\"PERSONAL_INCOME\", \"FAMILY_INCOME\", \"LOG_OF_PERSONAL_INCOME\", \"LOG_OF_FAMILY_INCOME\", \"TECHNICAL_CONSULTING_DUMMY\", \"OCCUPATION_GROUP\", \"SEX\", \"AGE\", \"MARITAL_STATUS\", \"RACE_N\", \"METROPOLITAN_STATUS\", \"CITIZENSHIP_STATUS\", \"ENGLISH_SPEAKING_STATUS\", \"EDUCATION_LEVEL\", \"EMPLOYMENT_STATUS\", \"VETERAN_STATUS\", \"WEEKS_WORKED_LAST_YEAR\"]\n",
    "\n",
    "def descriptive_stats(series):\n",
    "    return pd.Series({\n",
    "        \"count\": series.count(),\n",
    "        \"mean\": series.mean(),\n",
    "        \"min\": series.min(),\n",
    "        \"max\": series.max(),\n",
    "        \"std_dev\": series.std()\n",
    "    })\n",
    "\n",
    "summary_table = df[vars_1].apply(descriptive_stats)\n",
    "summary_table = summary_table.T\n",
    "print(summary_table)"
   ]
  },
  {
   "cell_type": "code",
   "execution_count": 23,
   "id": "1c85e2fb",
   "metadata": {},
   "outputs": [],
   "source": [
    "summary_table.to_csv(\"usa_summary.csv\")"
   ]
  },
  {
   "cell_type": "code",
   "execution_count": 24,
   "id": "174059db",
   "metadata": {},
   "outputs": [
    {
     "name": "stdout",
     "output_type": "stream",
     "text": [
      "                                         Coef.  Std.Err.           t  \\\n",
      "Intercept                            10.961311  0.033137  330.789556   \n",
      "W(Control) Tech Consulting Industry  -0.180229  0.025955   -6.943949   \n",
      "Large City x Tech Consulting          0.379566  0.022439   16.915511   \n",
      "Small City x Tech Consulting          0.233369  0.022636   10.309423   \n",
      "Unknown City x Tech Consulting        0.364298  0.021675   16.807085   \n",
      "\n",
      "                                            P>|t|     [0.025     0.975]  \n",
      "Intercept                            0.000000e+00  10.896363  11.026259  \n",
      "W(Control) Tech Consulting Industry  3.839284e-12  -0.231100  -0.129358  \n",
      "Large City x Tech Consulting         4.371970e-64   0.335586   0.423546  \n",
      "Small City x Tech Consulting         6.601231e-25   0.189002   0.277736  \n",
      "Unknown City x Tech Consulting       2.721798e-63   0.321815   0.406782  \n"
     ]
    }
   ],
   "source": [
    "import statsmodels.formula.api as smf\n",
    "import matplotlib.pyplot as plt\n",
    "import seaborn as sns\n",
    "model = smf.ols(\"LOG_OF_PERSONAL_INCOME ~ C(TECHNICAL_CONSULTING_DUMMY) + C(METROPOLITAN_STATUS)\", data=df).fit()\n",
    "# create a mapping of old coefficient names to friendly names\n",
    "coef_rename = {\n",
    "    \"C(TECHNICAL_CONSULTING_DUMMY)[T.2]\": \"W(Control) Tech Consulting Industry\",\n",
    "    \"C(METROPOLITAN_STATUS)[T.2]\": \"Large City x Tech Consulting\",\n",
    "    \"C(METROPOLITAN_STATUS)[T.3]\": \"Small City x Tech Consulting\",\n",
    "    \"C(METROPOLITAN_STATUS)[T.4]\": \"Unknown City x Tech Consulting\"\n",
    "}\n",
    "\n",
    "# create a nicer summary table\n",
    "summary_df = model.summary2().tables[1]  # coefficient table\n",
    "summary_df = summary_df.rename(index=coef_rename)\n",
    "print(summary_df)\n",
    "# --- Save regression table ---\n",
    "results_df = pd.DataFrame({\n",
    "    \"Coefficient\": model.params,\n",
    "    \"Std_Error\": model.bse,\n",
    "    \"t_value\": model.tvalues,\n",
    "    \"p_value\": model.pvalues\n",
    "})\n",
    "results_df = results_df.rename(index=coef_rename)\n",
    "results_df.to_csv(\"regression_results.csv\", index=True)"
   ]
  }
 ],
 "metadata": {
  "kernelspec": {
   "display_name": "Python 3",
   "language": "python",
   "name": "python3"
  },
  "language_info": {
   "codemirror_mode": {
    "name": "ipython",
    "version": 3
   },
   "file_extension": ".py",
   "mimetype": "text/x-python",
   "name": "python",
   "nbconvert_exporter": "python",
   "pygments_lexer": "ipython3",
   "version": "3.12.1"
  }
 },
 "nbformat": 4,
 "nbformat_minor": 5
}
